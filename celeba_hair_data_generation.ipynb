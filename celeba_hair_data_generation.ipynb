{
 "cells": [
  {
   "cell_type": "code",
   "execution_count": 36,
   "metadata": {},
   "outputs": [],
   "source": [
    "import os\n",
    "import glob\n",
    "import shutil"
   ]
  },
  {
   "cell_type": "code",
   "execution_count": 38,
   "metadata": {},
   "outputs": [],
   "source": [
    "root_path = './experiments/data/celeba_data/'\n",
    "img_path = os.path.join(root_path, 'img_align_celeba/')\n",
    "attr_path = os.path.join(root_path, 'list_attr_celeba.txt')\n",
    "hair_path = os.path.join(root_path, 'img_hair_celeba/')"
   ]
  },
  {
   "cell_type": "code",
   "execution_count": 10,
   "metadata": {},
   "outputs": [],
   "source": [
    "img_files = sorted(glob.glob(data_path +'*.jpg'))"
   ]
  },
  {
   "cell_type": "code",
   "execution_count": 15,
   "metadata": {},
   "outputs": [
    {
     "data": {
      "text/plain": [
       "['5_o_Clock_Shadow',\n",
       " 'Arched_Eyebrows',\n",
       " 'Attractive',\n",
       " 'Bags_Under_Eyes',\n",
       " 'Bald',\n",
       " 'Bangs',\n",
       " 'Big_Lips',\n",
       " 'Big_Nose',\n",
       " 'Black_Hair',\n",
       " 'Blond_Hair',\n",
       " 'Blurry',\n",
       " 'Brown_Hair',\n",
       " 'Bushy_Eyebrows',\n",
       " 'Chubby',\n",
       " 'Double_Chin',\n",
       " 'Eyeglasses',\n",
       " 'Goatee',\n",
       " 'Gray_Hair',\n",
       " 'Heavy_Makeup',\n",
       " 'High_Cheekbones',\n",
       " 'Male',\n",
       " 'Mouth_Slightly_Open',\n",
       " 'Mustache',\n",
       " 'Narrow_Eyes',\n",
       " 'No_Beard',\n",
       " 'Oval_Face',\n",
       " 'Pale_Skin',\n",
       " 'Pointy_Nose',\n",
       " 'Receding_Hairline',\n",
       " 'Rosy_Cheeks',\n",
       " 'Sideburns',\n",
       " 'Smiling',\n",
       " 'Straight_Hair',\n",
       " 'Wavy_Hair',\n",
       " 'Wearing_Earrings',\n",
       " 'Wearing_Hat',\n",
       " 'Wearing_Lipstick',\n",
       " 'Wearing_Necklace',\n",
       " 'Wearing_Necktie',\n",
       " 'Young']"
      ]
     },
     "execution_count": 15,
     "metadata": {},
     "output_type": "execute_result"
    }
   ],
   "source": [
    "attributes = open(attr_path).readlines()[1].split()\n",
    "attributes"
   ]
  },
  {
   "cell_type": "code",
   "execution_count": 22,
   "metadata": {},
   "outputs": [],
   "source": [
    "label_list = open(attr_path).readlines()[2:]\n",
    "data_label = []\n",
    "for i in range(len(label_list)):\n",
    "    data_label.append(label_list[i].split())"
   ]
  },
  {
   "cell_type": "code",
   "execution_count": 23,
   "metadata": {},
   "outputs": [],
   "source": [
    "for m in range(len(data_label)):\n",
    "    data_label[m] = [n.replace('-1', '0') for n in data_label[m]][1:]\n",
    "    data_label[m] = [int(p) for p in data_label[m]]"
   ]
  },
  {
   "cell_type": "code",
   "execution_count": 29,
   "metadata": {},
   "outputs": [
    {
     "data": {
      "text/plain": [
       "{8: 'Black_Hair',\n",
       " 9: 'Blond_Hair',\n",
       " 11: 'Brown_Hair',\n",
       " 17: 'Gray_Hair',\n",
       " 32: 'Straight_Hair',\n",
       " 33: 'Wavy_Hair'}"
      ]
     },
     "execution_count": 29,
     "metadata": {},
     "output_type": "execute_result"
    }
   ],
   "source": [
    "hair_idx = {i: attr for i, attr in enumerate(attributes) if attr.endswith('Hair')}\n",
    "hair_idx"
   ]
  },
  {
   "cell_type": "code",
   "execution_count": 30,
   "metadata": {},
   "outputs": [
    {
     "data": {
      "text/plain": [
       "'Wavy_Hair'"
      ]
     },
     "execution_count": 30,
     "metadata": {},
     "output_type": "execute_result"
    }
   ],
   "source": [
    "# remove the hair style\n",
    "hair_idx.pop(32)\n",
    "hair_idx.pop(33)"
   ]
  },
  {
   "cell_type": "code",
   "execution_count": 32,
   "metadata": {},
   "outputs": [],
   "source": [
    "# create the image: hair_label dict\n",
    "img_label_dict = dict()\n",
    "for image_file, labels in zip(img_files, data_label):\n",
    "    flag = False\n",
    "    for i in hair_idx.keys():\n",
    "        if labels[i]:\n",
    "            flag = True\n",
    "            break\n",
    "    \n",
    "    if flag:\n",
    "        img_label_dict[image_file] = [labels[idx] for idx in hair_idx.keys()]"
   ]
  },
  {
   "cell_type": "code",
   "execution_count": 40,
   "metadata": {},
   "outputs": [],
   "source": [
    "# save the img files\n",
    "for img_file in img_label_dict.keys():\n",
    "    img_file_name = os.path.basename(img_file)\n",
    "    if os.path.isdir(hair_path) == 0:\n",
    "        os.mkdir(hair_path)\n",
    "    copyed_file_path = os.path.join(hair_path, img_file_name)\n",
    "    shutil.copyfile(img_file, copyed_file_path)"
   ]
  },
  {
   "cell_type": "code",
   "execution_count": 48,
   "metadata": {},
   "outputs": [],
   "source": [
    "# write the labels into the file\n",
    "hair_attr_path = os.path.join(root_path, 'list_attr_celeba_hair.txt')\n",
    "with open(hair_attr_path, 'w') as w:\n",
    "    attr_str = ' '.join(list(hair_idx.values())) + '\\n'\n",
    "    w.write(attr_str)\n",
    "    label_str = ''\n",
    "    for img_file, label_list in img_label_dict.items():\n",
    "        label_str += (os.path.basename(img_file) + '\\t' + str(label_list.index(1)) + '\\n')\n",
    "    w.write(label_str)"
   ]
  },
  {
   "cell_type": "code",
   "execution_count": null,
   "metadata": {},
   "outputs": [],
   "source": []
  }
 ],
 "metadata": {
  "kernelspec": {
   "display_name": "wolf",
   "language": "python",
   "name": "wolf"
  },
  "language_info": {
   "codemirror_mode": {
    "name": "ipython",
    "version": 3
   },
   "file_extension": ".py",
   "mimetype": "text/x-python",
   "name": "python",
   "nbconvert_exporter": "python",
   "pygments_lexer": "ipython3",
   "version": "3.8.5"
  }
 },
 "nbformat": 4,
 "nbformat_minor": 4
}
