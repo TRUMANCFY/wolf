{
 "cells": [
  {
   "cell_type": "markdown",
   "metadata": {},
   "source": [
    "airplane : 0\n",
    "automobile : 1\n",
    "bird : 2\n",
    "cat : 3\n",
    "deer : 4\n",
    "dog : 5\n",
    "frog : 6\n",
    "horse : 7\n",
    "ship : 8\n",
    "truck : 9"
   ]
  },
  {
   "cell_type": "code",
   "execution_count": 1,
   "metadata": {},
   "outputs": [],
   "source": [
    "import os\n",
    "import sys\n",
    "import gc\n",
    "\n",
    "import time\n",
    "import json\n",
    "import random\n",
    "import math\n",
    "import numpy as np\n",
    "\n",
    "import torch\n",
    "from torch.optim.adamw import AdamW\n",
    "from torch.nn.utils import clip_grad_norm_\n",
    "import torch.distributed as dist\n",
    "from torch.utils.data.dataloader import DataLoader\n",
    "from torchvision.utils import save_image\n",
    "\n",
    "\n",
    "from wolf.data import load_datasets, get_batch, preprocess, postprocess\n",
    "from wolf import WolfModel\n",
    "from wolf.utils import total_grad_norm\n",
    "from wolf.optim import ExponentialScheduler\n",
    "\n",
    "from experiments.options import parse_args\n",
    "\n",
    "from matplotlib import pyplot as plt\n",
    "\n",
    "from tqdm import tqdm_notebook\n",
    "\n",
    "import autoreload\n",
    "%load_ext autoreload\n",
    "%autoreload 2"
   ]
  },
  {
   "cell_type": "code",
   "execution_count": 2,
   "metadata": {},
   "outputs": [],
   "source": [
    "def is_master(rank):\n",
    "    return rank <= 0\n",
    "\n",
    "def is_distributed(rank):\n",
    "    return rank >= 0\n",
    "\n",
    "def logging(info, logfile=None):\n",
    "    print(info)\n",
    "    if logfile is not None:\n",
    "        print(info, file=logfile)\n",
    "        logfile.flush()"
   ]
  },
  {
   "cell_type": "code",
   "execution_count": 3,
   "metadata": {},
   "outputs": [],
   "source": [
    "def init_dataloader(args, train_data, val_data):\n",
    "    if is_distributed(args.rank):\n",
    "        train_sampler = torch.utils.data.distributed.DistributedSampler(train_data, rank=args.rank,\n",
    "                                                                        num_replicas=args.world_size,\n",
    "                                                                        shuffle=True)\n",
    "    else:\n",
    "        train_sampler = None\n",
    "    train_loader = DataLoader(train_data, batch_size=args.batch_size,\n",
    "                              shuffle=(train_sampler is None), sampler=train_sampler,\n",
    "                              num_workers=args.workers, pin_memory=True, drop_last=True)\n",
    "    if is_master(args.rank):\n",
    "        eval_batch = args.eval_batch_size\n",
    "        val_loader = DataLoader(val_data, batch_size=eval_batch, shuffle=False,\n",
    "                                num_workers=args.workers, pin_memory=True)\n",
    "    else:\n",
    "        val_loader = None\n",
    "\n",
    "    return train_loader, train_sampler, val_loader"
   ]
  },
  {
   "cell_type": "code",
   "execution_count": 4,
   "metadata": {},
   "outputs": [],
   "source": [
    "def setup(args):\n",
    "    def check_dataset():\n",
    "        if dataset == 'cifar10':\n",
    "            assert image_size == 32, 'CIFAR-10 expected image size 32 but got {}'.format(image_size)\n",
    "        elif dataset.startswith('lsun'):\n",
    "            assert image_size in [128, 256]\n",
    "        elif dataset == 'celeba':\n",
    "            assert image_size in [256, 512]\n",
    "        elif dataset == 'imagenet':\n",
    "            assert image_size in [64, 128, 256]\n",
    "\n",
    "    dataset = args.dataset\n",
    "    if args.category is not None:\n",
    "        dataset = dataset + '_' + args.category\n",
    "    image_size = args.image_size\n",
    "    check_dataset()\n",
    "\n",
    "    nc = 3\n",
    "    args.nx = image_size ** 2 * nc\n",
    "    n_bits = args.n_bits\n",
    "    args.n_bins = 2. ** n_bits\n",
    "    args.test_k = 1\n",
    "\n",
    "    model_path = args.model_path\n",
    "    args.checkpoint_name = os.path.join(model_path, 'checkpoint')\n",
    "\n",
    "    result_path = os.path.join(model_path, 'images')\n",
    "    args.result_path = result_path\n",
    "    data_path = args.data_path\n",
    "\n",
    "    if is_master(args.rank):\n",
    "        if not os.path.exists(model_path):\n",
    "            os.makedirs(model_path)\n",
    "        if not os.path.exists(result_path):\n",
    "            os.makedirs(result_path)\n",
    "        if args.recover < 0:\n",
    "            args.log = open(os.path.join(model_path, 'log.txt'), 'w')\n",
    "        else:\n",
    "            args.log = open(os.path.join(model_path, 'log.txt'), 'a')\n",
    "    else:\n",
    "        args.log = None\n",
    "\n",
    "    args.cuda = torch.cuda.is_available()\n",
    "    random_seed = args.seed + args.rank if args.rank >= 0 else args.seed\n",
    "    if args.recover >= 0:\n",
    "        random_seed += random.randint(0, 1024)\n",
    "    logging(\"Rank {}: random seed={}\".format(args.rank, random_seed), logfile=args.log)\n",
    "    random.seed(random_seed)\n",
    "    np.random.seed(random_seed)\n",
    "    torch.manual_seed(random_seed)\n",
    "    device = torch.device('cuda', args.local_rank) if args.cuda else torch.device('cpu')\n",
    "    if args.cuda:\n",
    "        torch.cuda.set_device(device)\n",
    "        torch.cuda.manual_seed(random_seed)\n",
    "\n",
    "    torch.backends.cudnn.benchmark = True\n",
    "\n",
    "    args.world_size = int(os.environ[\"WORLD_SIZE\"]) if is_distributed(args.rank) else 1\n",
    "    logging(\"Rank {}: \".format(args.rank) + str(args), args.log)\n",
    "\n",
    "    train_data, val_data = load_datasets(dataset, image_size, data_path=data_path)\n",
    "    train_index = np.arange(len(train_data))\n",
    "    np.random.shuffle(train_index)\n",
    "    val_index = np.arange(len(val_data))\n",
    "\n",
    "    if is_master(args.rank):\n",
    "        logging('Data size: training: {}, val: {}'.format(len(train_index), len(val_index)))\n",
    "\n",
    "    if args.recover >= 0:\n",
    "        params = json.load(open(os.path.join(model_path, 'config.json'), 'r'))\n",
    "    else:\n",
    "        params = json.load(open(args.config, 'r'))\n",
    "        json.dump(params, open(os.path.join(model_path, 'config.json'), 'w'), indent=2)\n",
    "\n",
    "    wolf = WolfModel.from_params(params)\n",
    "    wolf.to_device(device)\n",
    "    args.device = device\n",
    "    \n",
    "    if args.recover >= 0:\n",
    "        wolf = WolfModel.load(args.model_path, args.device, 1)\n",
    "\n",
    "    return args, (train_data, val_data), (train_index, val_index), wolf"
   ]
  },
  {
   "cell_type": "code",
   "execution_count": 5,
   "metadata": {},
   "outputs": [],
   "source": [
    "debug=False\n",
    "\n",
    "def eval(args, val_loader, wolf):\n",
    "    wolf.eval()\n",
    "    wolf.sync()\n",
    "    gnll = 0\n",
    "    nent = 0\n",
    "    kl = 0\n",
    "    num_insts = 0\n",
    "    device = args.device\n",
    "    n_bits = args.n_bits\n",
    "    n_bins = args.n_bins\n",
    "    nx = args.nx\n",
    "    test_k = args.test_k\n",
    "    \n",
    "    results = []\n",
    "\n",
    "    for step, (data, y) in enumerate(val_loader):\n",
    "        batch_size = len(data)\n",
    "        data = data.to(device, non_blocking=True)\n",
    "        y = y.to(device, non_blocking=True)\n",
    "        with torch.no_grad():\n",
    "            wolf.loss(data, y=y, n_bits=n_bits, nsamples=test_k)\n",
    "#         print('shape is ', attns.shape)\n",
    "        \n",
    "#         del attns\n",
    "#         gc.collect()\n",
    "#         size_bool = True\n",
    "#         for attn_idx in range(len(attns_)-1):\n",
    "#             size_bool = (size_bool and (attns_[attn_idx].shape == attns_[attn_idx].shape))\n",
    "#         if debug:\n",
    "#             if size_bool:\n",
    "#                 print('the length of attentions is {}; the shape of attention is {}'.format(len(attns_), attns_[0].shape))\n",
    "#             else:\n",
    "#                 print('Size not matched')\n",
    "#         gnll += loss_gen.sum().item()\n",
    "#         kl += loss_kl.sum().item()\n",
    "#         nent += loss_dequant.sum().item()\n",
    "#         num_insts += batch_size\n",
    "        \n",
    "#         results.append((data.to('cpu'), y.to('cpu'), attns.to('cpu')))\n",
    "        results.append((data.to('cpu'), y.to('cpu')))\n",
    "        \n",
    "        if step % 10 == 0:\n",
    "            print('Step: ', step)\n",
    "            torch.cuda.empty_cache()\n",
    "\n",
    "#     gnll = gnll / num_insts\n",
    "#     nent = nent / num_insts\n",
    "#     kl = kl / num_insts\n",
    "#     nll = gnll + kl + nent + np.log(n_bins / 2.) * nx\n",
    "#     bpd = nll / (nx * np.log(2.0))\n",
    "#     nepd = nent / (nx * np.log(2.0))\n",
    "#     logging('Avg  NLL: {:.2f}, KL: {:.2f}, NENT: {:.2f}, BPD: {:.4f}, NEPD: {:.4f}'.format(\n",
    "#         nll, kl, nent, bpd, nepd), args.log)\n",
    "    return results"
   ]
  },
  {
   "cell_type": "code",
   "execution_count": 6,
   "metadata": {},
   "outputs": [],
   "source": [
    "def main(args):\n",
    "    args, (train_data, val_data), (train_index, val_index), wolf = setup(args)\n",
    "\n",
    "    train_loader, train_sampler, val_loader = init_dataloader(args, train_data, val_data)\n",
    "\n",
    "    return eval(args, val_loader, wolf), wolf"
   ]
  },
  {
   "cell_type": "code",
   "execution_count": 7,
   "metadata": {},
   "outputs": [],
   "source": [
    "args_dict = {'rank': -1,\n",
    " 'local_rank': 0,\n",
    " 'config': 'experiments/configs/cifar10/glow/glow-cat-uni.json',\n",
    " 'batch_size': 256,\n",
    " 'eval_batch_size': 512,\n",
    " 'batch_steps': 2,\n",
    " 'init_batch_size': 1024,\n",
    " 'epochs': 100,\n",
    " 'valid_epochs': 10,\n",
    " 'seed': 65537,\n",
    " 'train_k': 1,\n",
    " 'log_interval': 10,\n",
    " 'lr': 0.001,\n",
    " 'warmup_steps': 50,\n",
    " 'lr_decay': 0.999997,\n",
    " 'beta1': 0.9,\n",
    " 'beta2': 0.999,\n",
    " 'eps': 1e-08,\n",
    " 'weight_decay': 1e-06,\n",
    " 'amsgrad': False,\n",
    " 'grad_clip': 0.0,\n",
    " 'dataset': 'cifar10',\n",
    " 'category': None,\n",
    " 'image_size': 32,\n",
    " 'workers': 4,\n",
    " 'n_bits': 8,\n",
    " 'model_path': 'experiments/models/glow/cifar_linear_model/',\n",
    " 'data_path': 'experiments/data/cifar_data',\n",
    " 'recover': 1,\n",
    "}\n",
    "\n",
    "from argparse import Namespace\n",
    "\n",
    "args = Namespace(**args_dict)"
   ]
  },
  {
   "cell_type": "code",
   "execution_count": 8,
   "metadata": {},
   "outputs": [
    {
     "name": "stdout",
     "output_type": "stream",
     "text": [
      "Rank -1: random seed=65838\n",
      "Rank -1: Namespace(amsgrad=False, batch_size=256, batch_steps=2, beta1=0.9, beta2=0.999, category=None, checkpoint_name='experiments/models/glow/cifar_linear_model/checkpoint', config='experiments/configs/cifar10/glow/glow-cat-uni.json', cuda=True, data_path='experiments/data/cifar_data', dataset='cifar10', epochs=100, eps=1e-08, eval_batch_size=512, grad_clip=0.0, image_size=32, init_batch_size=1024, local_rank=0, log=<_io.TextIOWrapper name='experiments/models/glow/cifar_linear_model/log.txt' mode='a' encoding='UTF-8'>, log_interval=10, lr=0.001, lr_decay=0.999997, model_path='experiments/models/glow/cifar_linear_model/', n_bins=256.0, n_bits=8, nx=3072, rank=-1, recover=1, result_path='experiments/models/glow/cifar_linear_model/images', seed=65537, test_k=1, train_k=1, valid_epochs=10, warmup_steps=50, weight_decay=1e-06, workers=4, world_size=1)\n",
      "Files already downloaded and verified\n",
      "Data size: training: 50000, val: 10000\n",
      "Step:  0\n",
      "Step:  10\n"
     ]
    }
   ],
   "source": [
    "results, wolf = main(args)"
   ]
  },
  {
   "cell_type": "code",
   "execution_count": 9,
   "metadata": {},
   "outputs": [],
   "source": [
    "data_1, label_1 = results[0]"
   ]
  },
  {
   "cell_type": "code",
   "execution_count": 10,
   "metadata": {},
   "outputs": [
    {
     "data": {
      "text/plain": [
       "torch.Size([512, 3, 32, 32])"
      ]
     },
     "execution_count": 10,
     "metadata": {},
     "output_type": "execute_result"
    }
   ],
   "source": [
    "data_1.shape"
   ]
  },
  {
   "cell_type": "code",
   "execution_count": 11,
   "metadata": {},
   "outputs": [
    {
     "data": {
      "text/plain": [
       "torch.Size([512])"
      ]
     },
     "execution_count": 11,
     "metadata": {},
     "output_type": "execute_result"
    }
   ],
   "source": [
    "label_1.shape"
   ]
  },
  {
   "cell_type": "code",
   "execution_count": 12,
   "metadata": {},
   "outputs": [],
   "source": [
    "def reconstruct(args, img, y1, y2, wolf):\n",
    "    print('reconstruct')\n",
    "    wolf.eval()\n",
    "    batch = 1\n",
    "    nsamples = 15\n",
    "    print(y1)\n",
    "\n",
    "#     index = np.arange(len(data))\n",
    "#     np.random.shuffle(index)\n",
    "#     img, y = get_batch(data, index[:batch])\n",
    "    img = img.to(args.device)\n",
    "    y1 = y1.to(args.device)\n",
    "    y2 = y2.to(args.device)\n",
    "    \n",
    "    with torch.no_grad():\n",
    "        image_size = (3, args.image_size, args.image_size)\n",
    "        _, epsilon1 = wolf.encode(img, y=y1, n_bits=args.n_bits, nsamples=nsamples, random=False)\n",
    "        epsilon1 = epsilon1.view(batch * nsamples, *image_size)\n",
    "        z1 = wolf.encode_global(img, y=y1, n_bits=args.n_bits, nsamples=nsamples, random=False)\n",
    "        z1 = z1.view(batch * nsamples, z1.size(2))\n",
    "        # [batch, nsamples, c, h, w]\n",
    "        img_recon1 = wolf.decode(epsilon1, z=z1, n_bits=args.n_bits).view(batch, nsamples, *image_size)\n",
    "        \n",
    "        _, epsilon2 = wolf.encode(img, y=y1, n_bits=args.n_bits, nsamples=nsamples, random=False)\n",
    "        epsilon2 = epsilon2.view(batch * nsamples, *image_size)\n",
    "        z2 = wolf.encode_global(img, y=y2, n_bits=args.n_bits, nsamples=nsamples, random=False)\n",
    "        z2 = z2.view(batch * nsamples, z2.size(2))\n",
    "        # [batch, nsamples, c, h, w]\n",
    "        img_recon2 = wolf.decode(epsilon2, z=z2, n_bits=args.n_bits).view(batch, nsamples, *image_size)\n",
    "        \n",
    "        # [batch, 1, c, h, w]\n",
    "        img = postprocess(preprocess(img, args.n_bits), args.n_bits).unsqueeze(1)\n",
    "    \n",
    "    fig, axs = plt.subplots(1,3)\n",
    "    img_cpu = img.cpu()\n",
    "    img_recon1_cpu = img_recon1.cpu()\n",
    "    img_recon2_cpu = img_recon2.cpu()\n",
    "\n",
    "    axs[0].imshow(img_cpu[0][0].permute(1, 2, 0))\n",
    "    axs[1].imshow(img_recon1_cpu[0][0].permute(1, 2, 0))\n",
    "    axs[2].imshow(img_recon2_cpu[0][0].permute(1, 2, 0))\n",
    "    print('Recon1 and Origin: ', torch.norm(img_recon1_cpu[0][0] - img_cpu[0][0]))\n",
    "    print('Recon2 and Origin: ', torch.norm(img_recon2_cpu[0][0] - img_cpu[0][0]))\n",
    "    print('Recon1 and Recons: ', torch.norm(img_recon1_cpu[0][0] - img_recon2_cpu[0][0]))\n",
    "    print('eps shape: ', epsilon1.shape)\n",
    "    print('z shape: ', z1.shape)\n",
    "    print('z1 and z2: ', torch.norm(z1 - z2))\n",
    "    print('eps1 and eps2: ', torch.norm(epsilon1 - epsilon2))\n",
    "\n",
    "    # [batch, nsamples + 1, c, h, w] -> [batch*(nsamples + 1), c, h, w]\n",
    "#     comparison = torch.cat([img, img_recon], dim=1).view(-1, *image_size).cpu()"
   ]
  },
  {
   "cell_type": "markdown",
   "metadata": {},
   "source": [
    "airplane : 0\n",
    "automobile : 1\n",
    "bird : 2\n",
    "cat : 3\n",
    "deer : 4\n",
    "dog : 5\n",
    "frog : 6\n",
    "horse : 7\n",
    "ship : 8\n",
    "truck : 9"
   ]
  },
  {
   "cell_type": "code",
   "execution_count": 13,
   "metadata": {
    "scrolled": true
   },
   "outputs": [
    {
     "name": "stdout",
     "output_type": "stream",
     "text": [
      "reconstruct\n",
      "tensor([8])\n",
      "Recon1 and Origin:  tensor(0.1321)\n",
      "Recon2 and Origin:  tensor(9.3320)\n",
      "Recon1 and Recons:  tensor(9.2734)\n",
      "eps shape:  torch.Size([15, 3, 32, 32])\n",
      "z shape:  torch.Size([15, 32])\n",
      "z1 and z2:  tensor(14.5175, device='cuda:0')\n",
      "eps1 and eps2:  tensor(0., device='cuda:0')\n"
     ]
    },
    {
     "data": {
      "image/png": "[encoded data removed]",
      "text/plain": [
       "<Figure size 432x288 with 3 Axes>"
      ]
     },
     "metadata": {
      "needs_background": "light"
     },
     "output_type": "display_data"
    }
   ],
   "source": [
    "data_1, label_1 = results[0]\n",
    "y_1_ = results[0][1]\n",
    "reconstruct(args, data_1[1].unsqueeze(0), label_1[18].unsqueeze(0), torch.LongTensor([5]), wolf)"
   ]
  },
  {
   "cell_type": "code",
   "execution_count": 14,
   "metadata": {},
   "outputs": [],
   "source": [
    "def switch_operation(args, img1, img2, y1, y2, wolf):\n",
    "    print('switch operation')\n",
    "    batch = 1\n",
    "    nsamples = 1\n",
    "    image_size = (3, args.image_size, args.image_size)\n",
    "    \n",
    "    with torch.no_grad():\n",
    "        img1 = img1.to(args.device).unsqueeze(0)\n",
    "        img2 = img2.to(args.device).unsqueeze(0)\n",
    "\n",
    "        y1 = y1.to(args.device).unsqueeze(0)\n",
    "        y2 = y2.to(args.device).unsqueeze(0)\n",
    "\n",
    "        nsamples = 1\n",
    "\n",
    "        z1, eps1 = wolf.encode(img1, y=y1, n_bits=args.n_bits, nsamples=nsamples, random=True)\n",
    "        z2, eps2 = wolf.encode(img2, y=y2, n_bits=args.n_bits, nsamples=nsamples, random=True)\n",
    "        \n",
    "        z1 = z1.view(batch * nsamples, z1.size(2))\n",
    "        z2 = z2.view(batch * nsamples, z2.size(2))\n",
    "        eps1 = eps1.view(batch * nsamples, *image_size)\n",
    "        eps2 = eps2.view(batch * nsamples, *image_size)\n",
    "        \n",
    "        img_1_1 = wolf.decode(eps1, z=z1, n_bits=args.n_bits).view(batch, nsamples, *image_size)\n",
    "        img_1_2 = wolf.decode(eps1, z=z2, n_bits=args.n_bits).view(batch, nsamples, *image_size)\n",
    "        img_2_1 = wolf.decode(eps2, z=z1, n_bits=args.n_bits).view(batch, nsamples, *image_size)\n",
    "        img_2_2 = wolf.decode(eps2, z=z2, n_bits=args.n_bits).view(batch, nsamples, *image_size)\n",
    "        \n",
    "        img1 = postprocess(preprocess(img1, n_bits=args.n_bits), n_bits=args.n_bits)\n",
    "        \n",
    "        print('img1 (ori, z1): ', torch.norm(img1 - img_1_1))\n",
    "        print('img1 (ori, z2): ', torch.norm(img1 - img_1_2))\n",
    "        print('eps1 (z1, z2): ', torch.norm(img_1_1 - img_1_2))\n",
    "        print('img2 (ori, z1): ', torch.norm(img2 - img_2_1))\n",
    "        print('img2 (ori, z2): ', torch.norm(img2 - img_2_2))\n",
    "        print('eps2 (z1, z2): ', torch.norm(img_2_1 - img_2_2))\n",
    "        \n",
    "        fig, axs = plt.subplots(2, 3)\n",
    "        \n",
    "        axs[0,0].imshow(img1[0].cpu().permute(1, 2, 0))\n",
    "        axs[0,1].imshow(img_1_1[0][0].cpu().permute(1, 2, 0))\n",
    "        axs[0,2].imshow(img_1_2[0][0].cpu().permute(1, 2, 0))\n",
    "        axs[1,0].imshow(img2[0].cpu().permute(1, 2, 0))\n",
    "        axs[1,1].imshow(img_2_1[0][0].cpu().permute(1, 2, 0))\n",
    "        axs[1,2].imshow(img_2_2[0][0].cpu().permute(1, 2, 0))"
   ]
  },
  {
   "cell_type": "code",
   "execution_count": 17,
   "metadata": {},
   "outputs": [
    {
     "name": "stdout",
     "output_type": "stream",
     "text": [
      "tensor(6) tensor(1)\n",
      "switch operation\n",
      "img1 (ori, z1):  tensor(0.0039, device='cuda:0')\n",
      "img1 (ori, z2):  tensor(8.9036, device='cuda:0')\n",
      "eps1 (z1, z2):  tensor(8.9036, device='cuda:0')\n",
      "img2 (ori, z1):  tensor(10.5025, device='cuda:0')\n",
      "img2 (ori, z2):  tensor(1.9112e-06, device='cuda:0')\n",
      "eps2 (z1, z2):  tensor(10.5025, device='cuda:0')\n"
     ]
    },
    {
     "data": {
      "image/png": "[encoded data removed]",
      "text/plain": [
       "<Figure size 432x288 with 6 Axes>"
      ]
     },
     "metadata": {
      "needs_background": "light"
     },
     "output_type": "display_data"
    }
   ],
   "source": [
    "first, second = 4, 9\n",
    "print(y_1_[first], y_1_[second])\n",
    "switch_operation(args, data_1[first], data_1[second], y_1_[first], y_1_[second], wolf)"
   ]
  },
  {
   "cell_type": "code",
   "execution_count": null,
   "metadata": {},
   "outputs": [],
   "source": []
  }
 ],
 "metadata": {
  "kernelspec": {
   "display_name": "wolf",
   "language": "python",
   "name": "wolf"
  },
  "language_info": {
   "codemirror_mode": {
    "name": "ipython",
    "version": 3
   },
   "file_extension": ".py",
   "mimetype": "text/x-python",
   "name": "python",
   "nbconvert_exporter": "python",
   "pygments_lexer": "ipython3",
   "version": "3.8.5"
  }
 },
 "nbformat": 4,
 "nbformat_minor": 4
}
